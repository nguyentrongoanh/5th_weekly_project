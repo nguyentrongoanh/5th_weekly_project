{
 "cells": [
  {
   "cell_type": "code",
   "execution_count": 1,
   "metadata": {},
   "outputs": [],
   "source": [
    "import numpy as np\n",
    "import pandas as pd\n",
    "from collections import Counter\n",
    "from sklearn.feature_extraction.text import CountVectorizer\n",
    "from sklearn.linear_model import LogisticRegression\n",
    "from sklearn.model_selection import train_test_split\n",
    "import seaborn as sns\n",
    "import matplotlib.pyplot as plt\n",
    "from collections import Counter\n",
    "from sklearn.pipeline import Pipeline\n",
    "from sklearn.linear_model import LogisticRegression\n",
    "from sklearn.feature_extraction.text import TfidfVectorizer"
   ]
  },
  {
   "cell_type": "code",
   "execution_count": 2,
   "metadata": {},
   "outputs": [],
   "source": [
    "# load data\n",
    "df_train = pd.read_csv('train.csv')\n",
    "df_test = pd.read_csv('test.csv')"
   ]
  },
  {
   "cell_type": "code",
   "execution_count": 3,
   "metadata": {},
   "outputs": [],
   "source": [
    "# assign Sentiment and reviews column \n",
    "reviews = df_train['Phrase']\n",
    "sentiment = df_train['Sentiment']"
   ]
  },
  {
   "cell_type": "code",
   "execution_count": 4,
   "metadata": {},
   "outputs": [
    {
     "data": {
      "text/plain": [
       "([<matplotlib.axis.XTick at 0x7fbcb9779fd0>,\n",
       "  <matplotlib.axis.XTick at 0x7fbcb9786b50>,\n",
       "  <matplotlib.axis.XTick at 0x7fbcb9786750>,\n",
       "  <matplotlib.axis.XTick at 0x7fbcbab1ec50>,\n",
       "  <matplotlib.axis.XTick at 0x7fbcbab331d0>],\n",
       " [Text(0, 0, ''),\n",
       "  Text(0, 0, ''),\n",
       "  Text(0, 0, ''),\n",
       "  Text(0, 0, ''),\n",
       "  Text(0, 0, '')])"
      ]
     },
     "execution_count": 4,
     "metadata": {},
     "output_type": "execute_result"
    },
    {
     "data": {
      "image/png": "[encoded data removed]",
      "text/plain": [
       "<Figure size 432x288 with 1 Axes>"
      ]
     },
     "metadata": {
      "needs_background": "light"
     },
     "output_type": "display_data"
    }
   ],
   "source": [
    "# visualize sentiment data\n",
    "fig = plt.figure()\n",
    "axes1 = fig.add_subplot(1, 1, 1)\n",
    "axes1.hist(sentiment)\n",
    "axes1.set_xlabel('Sentiment')\n",
    "axes1.set_ylabel('Count')\n",
    "plt.xticks(range(5))\n",
    "# Most of the review is \"neutral\", what prediction i can make base on this data? \n",
    "# Maybe it shows that the data is unbalance so we cannot evaluate the model base on accuracy?\n",
    "# or most of words in the phrase represent for the neutral sentiment?"
   ]
  },
  {
   "cell_type": "code",
   "execution_count": 5,
   "metadata": {},
   "outputs": [
    {
     "data": {
      "text/plain": [
       "\"disguise the slack complacency of -LRB- Godard 's -RRB- vision\""
      ]
     },
     "execution_count": 5,
     "metadata": {},
     "output_type": "execute_result"
    }
   ],
   "source": [
    "# Count words in the review\n",
    "vocab = Counter()\n",
    "for phrase in reviews:\n",
    "    for word in phrase.split():\n",
    "        vocab[word] += 1\n",
    "\n",
    "# Quick look at the most common word\n",
    "vocab.most_common()\n",
    "\n",
    "# There is some strange word like: -RRB-, what does it mean?\n",
    "# No result from google, must find the context where this word is in.\n",
    "# Luckily, it's in the second phrase of the dataset\n",
    "reviews.loc[1]\n",
    "# Combine with the result on google it's the LEFT ROUND BRACKET and RIGHT ROUND BRACKET, should get rid of them\n",
    "# There're also digit character in the data, not much information from this digit, get rid of them."
   ]
  },
  {
   "cell_type": "code",
   "execution_count": 6,
   "metadata": {},
   "outputs": [],
   "source": [
    "# Function to remove -LRB- or -RRB-\n",
    "def remove_brackets(text):\n",
    "    for word in text.split():\n",
    "        if word == '-LRB-' or word == '-RRB-':\n",
    "            text = text.replace(word, '')\n",
    "    return text"
   ]
  },
  {
   "cell_type": "code",
   "execution_count": 7,
   "metadata": {},
   "outputs": [],
   "source": [
    "# Remove -LRB- or -RRB- in reviews\n",
    "reviews = reviews.apply(remove_brackets)"
   ]
  },
  {
   "cell_type": "code",
   "execution_count": 8,
   "metadata": {},
   "outputs": [],
   "source": [
    "# Function to remove special character and digits (reuse from Quaan's code)\n",
    "import re\n",
    "def preprocessor(text):\n",
    "    \"\"\" Return a cleaned version of text\n",
    "    \"\"\"\n",
    "    # Remove HTML markup\n",
    "    text = re.sub('<[^>]*>', '', text)\n",
    "    # Save emoticons for later appending\n",
    "    emoticons = re.findall('(?::|;|=)(?:-)?(?:\\)|\\(|D|P)', text)\n",
    "    # Remove any non-word character and append the emoticons,\n",
    "    # Also Convert to lower case\n",
    "#     text = (re.sub('[0-9]', ' ', text.lower()) + ' ' + ' '.join(emoticons).replace('-', ''))\n",
    "    \n",
    "    return text"
   ]
  },
  {
   "cell_type": "code",
   "execution_count": 9,
   "metadata": {},
   "outputs": [],
   "source": [
    "# Remove special character and digits\n",
    "# reviews = reviews.apply(preprocessor)"
   ]
  },
  {
   "cell_type": "code",
   "execution_count": 10,
   "metadata": {},
   "outputs": [],
   "source": [
    "# download list of stopwords\n",
    "from nltk.corpus import stopwords\n",
    "stop_words = stopwords.words('english')"
   ]
  },
  {
   "cell_type": "code",
   "execution_count": 11,
   "metadata": {},
   "outputs": [],
   "source": [
    "# Remove stopwords\n",
    "def remove_stopwords(text):\n",
    "    filtered_word = []\n",
    "    for word in text.split(' '):\n",
    "        if word not in stop_words:\n",
    "            filtered_word.append(word)\n",
    "    return ' '.join(filtered_word)"
   ]
  },
  {
   "cell_type": "code",
   "execution_count": 12,
   "metadata": {},
   "outputs": [],
   "source": [
    "# Remove stopwords before tokenizer to avoid warning while stemming\n",
    "reviews = reviews.apply(remove_stopwords)"
   ]
  },
  {
   "cell_type": "code",
   "execution_count": 13,
   "metadata": {},
   "outputs": [],
   "source": [
    "# Function for stemming (reuse Quan's code)\n",
    "from nltk.stem import PorterStemmer\n",
    "\n",
    "porter = PorterStemmer()\n",
    "\n",
    "# Split a text into list of words and apply stemming technic\n",
    "def tokenizer_porter(text):\n",
    "    return [porter.stem(word) for word in text.split()]"
   ]
  },
  {
   "cell_type": "code",
   "execution_count": 14,
   "metadata": {},
   "outputs": [],
   "source": [
    "# Train Logistic Regression using tfidf\n",
    "X_train = reviews\n",
    "y_train = sentiment"
   ]
  },
  {
   "cell_type": "code",
   "execution_count": 15,
   "metadata": {},
   "outputs": [
    {
     "data": {
      "text/plain": [
       "Pipeline(steps=[('vect',\n",
       "                 TfidfVectorizer(preprocessor=<function preprocessor at 0x7fbcb7b518c0>,\n",
       "                                 tokenizer=<function tokenizer_porter at 0x7fbcb7b51050>)),\n",
       "                ('clf', LogisticRegression(max_iter=10000))])"
      ]
     },
     "execution_count": 15,
     "metadata": {},
     "output_type": "execute_result"
    }
   ],
   "source": [
    "# Transforms data into matrix\n",
    "tfidf = TfidfVectorizer(tokenizer=tokenizer_porter,\n",
    "                        preprocessor=preprocessor)\n",
    "# instantiate estimator\n",
    "clf = Pipeline([('vect', tfidf),\n",
    "                ('clf', LogisticRegression(max_iter=10000))])\n",
    "\n",
    "# training model\n",
    "clf.fit(X_train, y_train)"
   ]
  },
  {
   "cell_type": "code",
   "execution_count": 16,
   "metadata": {},
   "outputs": [
    {
     "name": "stdout",
     "output_type": "stream",
     "text": [
      "accuracy: 0.6754496133965568\n",
      "confusion matrix:\n",
      " [[ 1270  2457  1372   143    11]\n",
      " [  406  9262  9997   854    44]\n",
      " [  147  2696 53234  3392   136]\n",
      " [   31   562 10310 13139   736]\n",
      " [    6    71  1041  3575  2153]]\n",
      "classification report:\n",
      "               precision    recall  f1-score   support\n",
      "\n",
      "           0       0.68      0.24      0.36      5253\n",
      "           1       0.62      0.45      0.52     20563\n",
      "           2       0.70      0.89      0.79     59605\n",
      "           3       0.62      0.53      0.57     24778\n",
      "           4       0.70      0.31      0.43      6846\n",
      "\n",
      "    accuracy                           0.68    117045\n",
      "   macro avg       0.66      0.49      0.53    117045\n",
      "weighted avg       0.67      0.68      0.65    117045\n",
      "\n"
     ]
    }
   ],
   "source": [
    "# Evaluation on training set\n",
    "from sklearn.metrics import accuracy_score, confusion_matrix, classification_report\n",
    "\n",
    "# Now apply those above metrics to evaluate your model\n",
    "# Your code here\n",
    "predictions = clf.predict(X_train)\n",
    "print('accuracy:',accuracy_score(y_train,predictions))\n",
    "print('confusion matrix:\\n',confusion_matrix(y_train,predictions))\n",
    "print('classification report:\\n',classification_report(y_train,predictions))"
   ]
  },
  {
   "cell_type": "code",
   "execution_count": 19,
   "metadata": {},
   "outputs": [],
   "source": [
    "# Preprocessing test data\n",
    "X_test = df_test['Phrase']\n",
    "X_test = X_test.apply(remove_brackets)\n",
    "X_test = X_test.apply(remove_stopwords)"
   ]
  },
  {
   "cell_type": "code",
   "execution_count": 20,
   "metadata": {},
   "outputs": [
    {
     "data": {
      "text/plain": [
       "array([1, 2, 2, ..., 2, 2, 3])"
      ]
     },
     "execution_count": 20,
     "metadata": {},
     "output_type": "execute_result"
    }
   ],
   "source": [
    "# Prediction on test_set\n",
    "from sklearn.metrics import accuracy_score, confusion_matrix, classification_report\n",
    "\n",
    "\n",
    "# Now apply those above metrics to evaluate your model\n",
    "# Your code here\n",
    "predictions = clf.predict(X_test)\n",
    "predictions"
   ]
  },
  {
   "cell_type": "code",
   "execution_count": 21,
   "metadata": {},
   "outputs": [],
   "source": [
    "# add result in test_set\n",
    "df_test['Sentiment'] = predictions"
   ]
  },
  {
   "cell_type": "code",
   "execution_count": 22,
   "metadata": {},
   "outputs": [],
   "source": [
    "# export to csv\n",
    "df_test.to_csv('submission.csv')"
   ]
  },
  {
   "cell_type": "code",
   "execution_count": null,
   "metadata": {},
   "outputs": [],
   "source": [
    "preds = clf.predict_proba(X_test)\n",
    "\n",
    "for i in range(len(X_test)):\n",
    "    print(f'{X_test[i]} --> 0, 1, 2, 3, 4, 5 = {preds[i]}')"
   ]
  },
  {
   "cell_type": "code",
   "execution_count": null,
   "metadata": {},
   "outputs": [],
   "source": []
  }
 ],
 "metadata": {
  "kernelspec": {
   "display_name": "Python 3",
   "language": "python",
   "name": "python3"
  },
  "language_info": {
   "codemirror_mode": {
    "name": "ipython",
    "version": 3
   },
   "file_extension": ".py",
   "mimetype": "text/x-python",
   "name": "python",
   "nbconvert_exporter": "python",
   "pygments_lexer": "ipython3",
   "version": "3.7.8"
  }
 },
 "nbformat": 4,
 "nbformat_minor": 4
}
